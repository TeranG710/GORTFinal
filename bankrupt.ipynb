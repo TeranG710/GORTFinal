{
 "cells": [
  {
   "cell_type": "markdown",
   "metadata": {},
   "source": [
    "## Frame the Problem and Big Picture\n",
    "**Client Background:**\n",
    "- Our client, FinSight Analytics, is a financial risk assessment consultancy that provides services to major investment firms, banks, and private equity companies across North America. They've approached Team Gort to develop a more effective bankruptcy prediction model that their analysts can use to assess investment and lending risks.\n",
    "\n",
    "**1. Define the objective in business terms:**\n",
    "- The objective for this machine learning model is to accurately predict whether a company will declare bankruptcy within the next year based on its financial ratios and indicators.\n",
    "\n",
    "**2. How will your solution be used?**\n",
    "- This model will be used by financial institutions (banks, investment firms, and creditors) to assess the bankruptcy risk of companies they're considering investing in or extending credit to. It will serve as an early warning system, allowing these stakeholders to make more informed decisions, adjust lending terms based on risk profiles, implement early intervention strategies, and optimize their portfolio management.\n",
    "\n",
    "**3. What are the current solutions/workarounds (if any)?**\n",
    "- Currently, financial institutions rely on traditional credit scoring models and manual analysis by financial analysts. These approaches often fail to detect early warning signs of bankruptcy and tend to over-rely on limited metrics like payment history and debt ratios while overlooking other critical financial indicators.\n",
    "\n",
    "**4. How should you frame this problem?**\n",
    "- This is a supervised binary classification problem since we are trying to predict whether a company will go bankrupt (1) or not (0) based on historical financial data. This would be a batch learning solution that gets periodically updated as new financial data becomes available, though predictions would be generated whenever a new company needs to be evaluated.\n",
    "\n",
    "**5. How should performance be measured? Is the performance measure aligned with the business objective?**\n",
    "- Our objective is to be able to predict at least 75% of the companies that will go bankrupt while maintaining a false positive rate below 15%. This aligns with our business objective since missing a bankruptcy prediction can result in significant financial losses, while incorrectly flagging healthy companies can lead to missed business opportunities.\n",
    "\n",
    "**6. What would be the minimum performance needed to reach the business objective?**\n",
    "- The minimum performance needed would be the ability to correctly identify at least 75% of companies that will go bankrupt, with a false positive rate below 15%, and provide predictions at least 12 months before bankruptcy occurs.\n",
    "\n",
    "**7. What are comparable problems? Can you reuse experience or tools?**\n",
    "- This problem is comparable to other financial risk assessment problems such as credit default prediction and loan delinquency prediction. We can leverage our experience with classification algorithms like Random Forest, Gradient Boosting, and logistic regression, which have proven effective in similar financial prediction tasks. We can also use techniques from previous projects dealing with imbalanced datasets. Other past machine learning problems we have tackled such as the airline project can contribute to our knowledge of how to navigate a classification problem.\n",
    "\n",
    "**8. Is human expertise available?**\n",
    "- No we currently don't have any human expertise at the moment to assist us with this problem but we have been looking for online at people who have worked in this field to seek guidance from things they have shared publicly or if we can eventually get in contact.\n",
    "\n",
    "**9. How would you solve the problem manually?**\n",
    "- To solve this problem manually, we would need to analyze the historical financial data of companies that went bankrupt and those that remained solvent. We would look for patterns in financial ratios, identify negative trends in profitability and liquidity, examine cash flow patterns, assess debt structure, and combine these factors to make a risk assessment. We would also need to consider industry-specific benchmarks since financial ratios can vary significantly across different sectors.\n",
    "\n",
    "**10. List the assumptions you (or others) have made so far. Verify assumptions if possible.**\n",
    "- We have made the assumption that financial ratios and indicators from company reports are strong predictors of future bankruptcy. We also assume that the relationship between these indicators and bankruptcy risk remains relatively stable over time. Another assumption is that the provided dataset contains sufficient examples of both bankrupt and non-bankrupt companies to train an effective model. We will need to verify these assumptions during our exploratory data analysis phase.\n"
   ]
  },
  {
   "cell_type": "markdown",
   "metadata": {},
   "source": [
    "## Get the Data\n",
    "\n",
    "**1. List the data you need and how much you need**\n",
    "- Company Bankruptcy Data \n",
    "\n",
    "**2. Find and document where you can get that data**\n",
    "- The data is freely available on Kaggle: https://www.kaggle.com/datasets/fedesoriano/company-bankruptcy-prediction?resource=download\n",
    "\n",
    "**3. Get access authorizations**\n",
    "- You must make a kaggle account to be able to download the data\n",
    "\n",
    "**4. Create a workspace (with enough storage space)**\n",
    "- This notebook\n",
    "\n",
    "**5. Get the data**\n",
    "- Download from the link\n",
    "\n",
    "**6. Convert the data to a format you can easily manipulate (without changing the data itself)**\n",
    "- The data is all in a csv file that is easily manipulatable \n",
    "\n",
    "**7. Ensure sensitive information is deleted or protected (e.g. anonymized)**\n",
    "- There is no sensitive data that is stored inside the csv\n",
    "\n",
    "**8. Check the size and type of data (time series, geographical, ...)**\n",
    "- Need to document\n",
    "\n",
    "**9. Sample a test set, put it aside, and never look at it (no data snooping!)**\n",
    "- Done"
   ]
  },
  {
   "cell_type": "code",
   "execution_count": 4,
   "metadata": {},
   "outputs": [],
   "source": [
    "import numpy as np\n",
    "import matplotlib.pyplot as plt\n",
    "from sklearn.model_selection import train_test_split "
   ]
  },
  {
   "cell_type": "code",
   "execution_count": 3,
   "metadata": {},
   "outputs": [],
   "source": [
    "data = np.loadtxt('Bankruptcy.csv', delimiter=',', skiprows=1)"
   ]
  },
  {
   "cell_type": "code",
   "execution_count": 5,
   "metadata": {},
   "outputs": [],
   "source": [
    "def split_data(data):\n",
    "    \"\"\"\n",
    "    Split the data into a training and testing set\n",
    "    \"\"\"\n",
    "    return train_test_split(data, test_size=0.1, random_state=42)\n",
    "\n",
    "train_set, test_set = split_data(data)"
   ]
  },
  {
   "cell_type": "markdown",
   "metadata": {},
   "source": [
    "## Explore the data\n",
    "\n",
    "**1. Copy the data for exploration, downsampling to a manageable size if necessary.**\n",
    "- placeholder\n",
    "\n",
    "**2. Study each attribute and its characteristics: Name; Type (categorical, numerical,bounded, text, structured, ...); % of missing values;Noisiness and type of noise (stochastic, outliers, rounding errors, ...);Usefulness for the task; Type of distribution (Gaussian, uniform,logarithmic, ...)**\n",
    "- placeholder\n",
    "\n",
    "\n",
    "**3. For supervised learning tasks, identify the target attribute(s)**\n",
    "- placeholder\n",
    "\n",
    "\n",
    "**4. Visualize the data**\n",
    "- placeholder\n",
    "\n",
    "\n",
    "**5. Study the correlations between attributes**\n",
    "- placeholder\n",
    "\n",
    "\n",
    "**6. Study how you would solve the problem manually** \n",
    "- placeholder\n",
    "\n",
    "\n",
    "**7. Identify the promising transformations you may want to apply**\n",
    "- placeholder\n",
    "\n",
    "\n",
    "**8. Identify extra data that would be useful (go back to “Get the Data”)**\n",
    "- placeholder\n",
    "\n",
    "\n",
    "**9. Document what you have learned**\n",
    "- placeholder\n",
    "\n"
   ]
  }
 ],
 "metadata": {
  "kernelspec": {
   "display_name": "Python 3",
   "language": "python",
   "name": "python3"
  },
  "language_info": {
   "codemirror_mode": {
    "name": "ipython",
    "version": 3
   },
   "file_extension": ".py",
   "mimetype": "text/x-python",
   "name": "python",
   "nbconvert_exporter": "python",
   "pygments_lexer": "ipython3",
   "version": "3.12.1"
  }
 },
 "nbformat": 4,
 "nbformat_minor": 2
}
